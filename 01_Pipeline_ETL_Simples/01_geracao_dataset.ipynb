{
  "nbformat": 4,
  "nbformat_minor": 0,
  "metadata": {
    "colab": {
      "provenance": []
    },
    "kernelspec": {
      "name": "python3",
      "display_name": "Python 3"
    },
    "language_info": {
      "name": "python"
    }
  },
  "cells": [
    {
      "cell_type": "markdown",
      "source": [
        "# 🧩 1️⃣ Importação das bibliotecas\n",
        "\n",
        "Nesta etapa, importamos as bibliotecas que serão utilizadas para gerar os dados:\n",
        "- **pandas:** para manipulação e estruturação dos dados em formato de tabela.  \n",
        "- **random:** para gerar valores aleatórios (como produtos, cidades e preços).  \n",
        "- **datetime/timedelta:** para criar datas de venda realistas ao longo do último ano.\n"
      ],
      "metadata": {
        "id": "rs5clLoEC2jj"
      }
    },
    {
      "cell_type": "code",
      "execution_count": 5,
      "metadata": {
        "id": "wpZT6RRj-vIF"
      },
      "outputs": [],
      "source": [
        "import pandas as pd\n",
        "import random\n",
        "from datetime import datetime, timedelta\n"
      ]
    },
    {
      "cell_type": "markdown",
      "source": [
        "# 🛍️ 2️⃣ Criação das listas de referência\n",
        "\n",
        "Aqui definimos listas com possíveis valores para cada categoria:\n",
        "- **Produtos** vendidos (ex: Camisa, Tênis, Jaqueta...)  \n",
        "- **Cidades** onde as vendas ocorreram  \n",
        "- **Vendedores** responsáveis pelas vendas  \n",
        "\n",
        "Essas listas servirão de base para gerar os dados de forma aleatória.\n"
      ],
      "metadata": {
        "id": "-7c1x9NrE041"
      }
    },
    {
      "cell_type": "code",
      "source": [
        "# Gerando dados simulados\n",
        "nomes_produtos = [\"Camisa\", \"Calça\", \"Tênis\", \"Jaqueta\", \"Bolsa\", \"Relógio\", \"Boné\", \"Vestido\"]\n",
        "cidades = [\"São Paulo\", \"Rio de Janeiro\", \"Belo Horizonte\", \"Curitiba\", \"Porto Alegre\", \"Salvador\", \"Fortaleza\"]\n",
        "vendedores = [\"Marcos\", \"Ana\", \"João\", \"Carla\", \"Paulo\", \"Fernanda\", \"Lucas\", \"Patrícia\"]"
      ],
      "metadata": {
        "id": "XWmCX5rgDrph"
      },
      "execution_count": 6,
      "outputs": []
    },
    {
      "cell_type": "markdown",
      "source": [
        "# 📊 3️⃣ Geração dos dados de vendas\n",
        "\n",
        "Nesta etapa, criamos um loop que gera **100 registros fictícios de vendas**.\n",
        "Cada linha representa uma venda com informações sobre:\n",
        "- Produto, cidade e vendedor\n",
        "- Quantidade e preço unitário\n",
        "- Total da venda\n",
        "- Data da venda (nos últimos 365 dias)\n",
        "\n",
        "O resultado é armazenado em uma lista chamada `dados`.\n"
      ],
      "metadata": {
        "id": "T7nTujj1E46k"
      }
    },
    {
      "cell_type": "code",
      "source": [
        "# Gerar 100 linhas de vendas fictícias\n",
        "dados = []\n",
        "for i in range(100):\n",
        "    produto = random.choice(nomes_produtos)\n",
        "    cidade = random.choice(cidades)\n",
        "    vendedor = random.choice(vendedores)\n",
        "    quantidade = random.randint(1, 10)\n",
        "    preco_unitario = round(random.uniform(50, 500), 2)\n",
        "    total_venda = round(quantidade * preco_unitario, 2)\n",
        "    data_venda = datetime.now() - timedelta(days=random.randint(1, 365))\n",
        "    dados.append([produto, cidade, vendedor, quantidade, preco_unitario, total_venda, data_venda.date()])"
      ],
      "metadata": {
        "id": "R7Sdy5kyDs73"
      },
      "execution_count": 7,
      "outputs": []
    },
    {
      "cell_type": "markdown",
      "source": [
        "# 🧱 4️⃣ Criação do DataFrame\n",
        "\n",
        "Após gerar os dados, transformamos a lista `dados` em um **DataFrame do pandas**.  \n",
        "Esse formato facilita a visualização, manipulação e exportação dos dados.  \n",
        "\n",
        "Aqui também definimos o nome de cada coluna, como:\n",
        "`Produto`, `Cidade`, `Vendedor`, `Quantidade`, `Preco_Unitario`, `Total_Venda`, `Data_Venda`.\n"
      ],
      "metadata": {
        "id": "gg_SuJsRE_At"
      }
    },
    {
      "cell_type": "code",
      "source": [
        "# Criar o DataFrame\n",
        "df = pd.DataFrame(dados, columns=[\n",
        "    \"Produto\", \"Cidade\", \"Vendedor\", \"Quantidade\", \"Preco_Unitario\", \"Total_Venda\", \"Data_Venda\"\n",
        "])"
      ],
      "metadata": {
        "id": "Ai2ZavPGD_KN"
      },
      "execution_count": null,
      "outputs": []
    },
    {
      "cell_type": "markdown",
      "source": [
        "# 💾 5️⃣ Salvando o arquivo CSV\n",
        "\n",
        "Agora salvamos o DataFrame como um arquivo CSV chamado **`vendas.csv`**.  \n",
        "- O parâmetro `index=False` evita salvar o índice do pandas.  \n",
        "- A codificação `utf-8-sig` garante que acentuação e caracteres especiais sejam exibidos corretamente, mesmo no Excel.\n",
        "\n",
        "Por fim, exibimos as 5 primeiras linhas para confirmar o resultado.\n"
      ],
      "metadata": {
        "id": "e9ON6JbcFDKk"
      }
    },
    {
      "cell_type": "code",
      "source": [
        "# Salvar em CSV\n",
        "df.to_csv(\"vendas.csv\", index=False, encoding=\"utf-8-sig\")"
      ],
      "metadata": {
        "id": "xMhdAceaEAVG"
      },
      "execution_count": null,
      "outputs": []
    },
    {
      "cell_type": "markdown",
      "source": [
        "# 👀 6️⃣ Visualização final\n",
        "\n",
        "Exibimos as primeiras linhas do DataFrame para verificar se os dados foram gerados corretamente.\n",
        "Assim, podemos conferir se as colunas, tipos e valores estão conforme o esperado.\n"
      ],
      "metadata": {
        "id": "UKSWp4EmFGlP"
      }
    },
    {
      "cell_type": "code",
      "source": [
        "print(\"✅ Arquivo 'vendas.csv' criado com sucesso!\")\n",
        "df.head()"
      ],
      "metadata": {
        "id": "lyY6DHicEGKz"
      },
      "execution_count": null,
      "outputs": []
    },
    {
      "cell_type": "markdown",
      "source": [
        "🧾 O que esse código faz\n",
        "\n",
        "Gera 100 registros fictícios de vendas;\n",
        "\n",
        "Inclui colunas úteis para análises futuras: Produto, Cidade, Vendedor, Quantidade, Preço, Total e Data;\n",
        "\n",
        "Cria o arquivo vendas.csv dentro do ambiente do Colab."
      ],
      "metadata": {
        "id": "FTVd5zSaC9Sv"
      }
    },
    {
      "cell_type": "markdown",
      "source": [],
      "metadata": {
        "id": "Ax4ezdA-DFWn"
      }
    }
  ]
}